{
 "cells": [
  {
   "cell_type": "code",
   "execution_count": 1,
   "id": "e2cdbca0",
   "metadata": {},
   "outputs": [],
   "source": [
    "# importing required libraries\n",
    "\n",
    "import nltk\n",
    "from nltk.wsd import lesk\n",
    "from nltk import word_tokenize"
   ]
  },
  {
   "cell_type": "code",
   "execution_count": 2,
   "id": "86670ad4",
   "metadata": {},
   "outputs": [],
   "source": [
    "# declaring two variables\n",
    "sentence_1  = \"People save their savings in the bank\"\n",
    "sentence_2  = \"It's so risky to drive over the banks of the road\""
   ]
  },
  {
   "cell_type": "code",
   "execution_count": 3,
   "id": "f8519ecb",
   "metadata": {},
   "outputs": [],
   "source": [
    "# to find the sense of the word \"banks\" in the preceding two sentences, Lesk algorithm provided in nltk.wsd library is used\n",
    "\n",
    "def get_synset(sentence, word):\n",
    "    return lesk(word_tokenize(sentence), word)"
   ]
  },
  {
   "cell_type": "code",
   "execution_count": 5,
   "id": "48996280",
   "metadata": {},
   "outputs": [
    {
     "data": {
      "text/plain": [
       "Synset('savings_bank.n.02')"
      ]
     },
     "execution_count": 5,
     "metadata": {},
     "output_type": "execute_result"
    }
   ],
   "source": [
    "get_synset(sentence_1, 'bank')"
   ]
  },
  {
   "cell_type": "code",
   "execution_count": 7,
   "id": "45fb9a3b",
   "metadata": {},
   "outputs": [
    {
     "data": {
      "text/plain": [
       "Synset('bank.v.07')"
      ]
     },
     "execution_count": 7,
     "metadata": {},
     "output_type": "execute_result"
    }
   ],
   "source": [
    "get_synset(sentence_2, 'bank')"
   ]
  },
  {
   "cell_type": "markdown",
   "id": "bed6f0df",
   "metadata": {},
   "source": [
    "#### savings_bank.n.02 refers to a container for keeping mondy safely where as bank.v.07 refers to a slop in the turn of a road "
   ]
  },
  {
   "cell_type": "code",
   "execution_count": null,
   "id": "fe2579f5",
   "metadata": {},
   "outputs": [],
   "source": []
  }
 ],
 "metadata": {
  "kernelspec": {
   "display_name": "tf-gpu-25",
   "language": "python",
   "name": "tf-gpu-25"
  },
  "language_info": {
   "codemirror_mode": {
    "name": "ipython",
    "version": 3
   },
   "file_extension": ".py",
   "mimetype": "text/x-python",
   "name": "python",
   "nbconvert_exporter": "python",
   "pygments_lexer": "ipython3",
   "version": "3.9.5"
  }
 },
 "nbformat": 4,
 "nbformat_minor": 5
}
