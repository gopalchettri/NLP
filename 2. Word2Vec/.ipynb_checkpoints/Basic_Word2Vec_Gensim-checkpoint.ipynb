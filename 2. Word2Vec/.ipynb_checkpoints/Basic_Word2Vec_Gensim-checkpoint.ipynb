{
 "cells": [
  {
   "cell_type": "code",
   "execution_count": 1,
   "id": "eeeac78f",
   "metadata": {},
   "outputs": [],
   "source": [
    "# importing libraries\n",
    "\n",
    "import gensim\n",
    "from gensim.models import KeyedVectors"
   ]
  },
  {
   "cell_type": "code",
   "execution_count": 2,
   "id": "c6e0e3d3",
   "metadata": {},
   "outputs": [],
   "source": [
    "model = KeyedVectors.load_word2vec_format('C:/DevelopmentPlayground/googleWord2Vec/GoogleNews-vectors-negative300.bin', binary=True)"
   ]
  },
  {
   "cell_type": "code",
   "execution_count": 3,
   "id": "aa4767ce",
   "metadata": {
    "scrolled": true
   },
   "outputs": [
    {
     "name": "stdout",
     "output_type": "stream",
     "text": [
      "Size of the  pretrained Word2Vec : 3000000\n"
     ]
    }
   ],
   "source": [
    "print('Size of the  pretrained Word2Vec :', len(model.key_to_index))"
   ]
  },
  {
   "cell_type": "code",
   "execution_count": 4,
   "id": "3f921bd2",
   "metadata": {},
   "outputs": [
    {
     "name": "stdout",
     "output_type": "stream",
     "text": [
      "Size of each Word2Vec : 300\n"
     ]
    }
   ],
   "source": [
    "print('Size of each Word2Vec :', model.vector_size)"
   ]
  },
  {
   "cell_type": "code",
   "execution_count": 5,
   "id": "a3644f88",
   "metadata": {},
   "outputs": [
    {
     "data": {
      "text/plain": [
       "[('Kolkata', 0.7663769125938416),\n",
       " ('Mumbai', 0.7306069135665894),\n",
       " ('Lucknow', 0.7277829647064209),\n",
       " ('Patna', 0.7159016728401184),\n",
       " ('Guwahati', 0.7072612643241882),\n",
       " ('Jaipur', 0.6992814540863037),\n",
       " ('Hyderabad', 0.6983197331428528),\n",
       " ('Ranchi', 0.6962575912475586),\n",
       " ('Bhubaneswar', 0.6959234476089478),\n",
       " ('Chandigarh', 0.6940240859985352)]"
      ]
     },
     "execution_count": 5,
     "metadata": {},
     "output_type": "execute_result"
    }
   ],
   "source": [
    "model.most_similar('Delhi')"
   ]
  },
  {
   "cell_type": "code",
   "execution_count": 7,
   "id": "71f2bf56",
   "metadata": {},
   "outputs": [],
   "source": [
    "result = model.most_similar(positive=['man', 'queen'], negative=['king'], topn=1)"
   ]
  },
  {
   "cell_type": "code",
   "execution_count": 8,
   "id": "46b4c5a6",
   "metadata": {},
   "outputs": [
    {
     "name": "stdout",
     "output_type": "stream",
     "text": [
      "[('woman', 0.7609436511993408)]\n"
     ]
    }
   ],
   "source": [
    "print(result)"
   ]
  },
  {
   "cell_type": "code",
   "execution_count": 9,
   "id": "4690eadb",
   "metadata": {},
   "outputs": [],
   "source": [
    "result = model.most_similar(positive=['man','queen'], negative=['king'], topn=2)"
   ]
  },
  {
   "cell_type": "code",
   "execution_count": 10,
   "id": "ee4f5c4f",
   "metadata": {},
   "outputs": [
    {
     "name": "stdout",
     "output_type": "stream",
     "text": [
      "[('woman', 0.7609436511993408), ('girl', 0.6139993667602539)]\n"
     ]
    }
   ],
   "source": [
    "print(result)"
   ]
  },
  {
   "cell_type": "code",
   "execution_count": 11,
   "id": "5f3735a2",
   "metadata": {},
   "outputs": [],
   "source": [
    "result = model.most_similar(positive=['France', 'Rome'], negative=['Italy'], topn=1)"
   ]
  },
  {
   "cell_type": "code",
   "execution_count": 12,
   "id": "68ef15db",
   "metadata": {},
   "outputs": [
    {
     "name": "stdout",
     "output_type": "stream",
     "text": [
      "[('Paris', 0.7190686464309692)]\n"
     ]
    }
   ],
   "source": [
    "print(result)"
   ]
  },
  {
   "cell_type": "code",
   "execution_count": 13,
   "id": "77ac4f10",
   "metadata": {},
   "outputs": [],
   "source": [
    "most_similar_word = model.most_similar('Men')"
   ]
  },
  {
   "cell_type": "code",
   "execution_count": 14,
   "id": "10774c50",
   "metadata": {},
   "outputs": [
    {
     "name": "stdout",
     "output_type": "stream",
     "text": [
      "[('Women', 0.6797451972961426), ('Mens', 0.6626752018928528), ('MEN_UNITED', 0.660426139831543), ('men', 0.6301247477531433), ('women', 0.5693342685699463), ('Girls', 0.5656968355178833), ('Chuck_Kempka', 0.5614290833473206), ('Boys', 0.5213284492492676), ('American_Animated_Cartoons', 0.5166098475456238), ('Males', 0.5162665247917175)]\n"
     ]
    }
   ],
   "source": [
    "print(most_similar_word)"
   ]
  },
  {
   "cell_type": "code",
   "execution_count": null,
   "id": "dcbc7cd5",
   "metadata": {},
   "outputs": [],
   "source": []
  },
  {
   "cell_type": "code",
   "execution_count": null,
   "id": "9e3e3417",
   "metadata": {},
   "outputs": [],
   "source": []
  },
  {
   "cell_type": "code",
   "execution_count": null,
   "id": "5caeb0d9",
   "metadata": {},
   "outputs": [],
   "source": []
  },
  {
   "cell_type": "code",
   "execution_count": null,
   "id": "3a6abb4b",
   "metadata": {},
   "outputs": [],
   "source": []
  },
  {
   "cell_type": "code",
   "execution_count": null,
   "id": "e84e9855",
   "metadata": {},
   "outputs": [],
   "source": []
  }
 ],
 "metadata": {
  "kernelspec": {
   "display_name": "tf-gpu-25",
   "language": "python",
   "name": "tf-gpu-25"
  },
  "language_info": {
   "codemirror_mode": {
    "name": "ipython",
    "version": 3
   },
   "file_extension": ".py",
   "mimetype": "text/x-python",
   "name": "python",
   "nbconvert_exporter": "python",
   "pygments_lexer": "ipython3",
   "version": "3.9.5"
  }
 },
 "nbformat": 4,
 "nbformat_minor": 5
}
