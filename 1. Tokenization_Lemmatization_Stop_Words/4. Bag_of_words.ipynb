{
 "cells": [
  {
   "cell_type": "code",
   "execution_count": 1,
   "id": "b962d955",
   "metadata": {},
   "outputs": [],
   "source": [
    "# importing required libraries\n",
    "\n",
    "import nltk"
   ]
  },
  {
   "cell_type": "code",
   "execution_count": 2,
   "id": "021572a3",
   "metadata": {},
   "outputs": [],
   "source": [
    "paragraph = \"\"\"I have three visions for India. In 3000 years of our history, people from all over \n",
    "               the world have come and invaded us, captured our lands, conquered our minds. \n",
    "               From Alexander onwards, the Greeks, the Turks, the Moguls, the Portuguese, the British,\n",
    "               the French, the Dutch, all of them came and looted us, took over what was ours. \n",
    "               Yet we have not done this to any other nation. We have not conquered anyone. \n",
    "               We have not grabbed their land, their culture, \n",
    "               their history and tried to enforce our way of life on them. \n",
    "               Why? Because we respect the freedom of others.That is why my \n",
    "               first vision is that of freedom. I believe that India got its first vision of \n",
    "               this in 1857, when we started the War of Independence. It is this freedom that\n",
    "               we must protect and nurture and build on. If we are not free, no one will respect us.\n",
    "               My second vision for India’s development. For fifty years we have been a developing nation.\n",
    "               It is time we see ourselves as a developed nation. We are among the top 5 nations of the world\n",
    "               in terms of GDP. We have a 10 percent growth rate in most areas. Our poverty levels are falling.\n",
    "               Our achievements are being globally recognised today. Yet we lack the self-confidence to\n",
    "               see ourselves as a developed nation, self-reliant and self-assured. Isn’t this incorrect?\n",
    "               I have a third vision. India must stand up to the world. Because I believe that unless India \n",
    "               stands up to the world, no one will respect us. Only strength respects strength. We must be \n",
    "               strong not only as a military power but also as an economic power. Both must go hand-in-hand. \n",
    "               My good fortune was to have worked with three great minds. Dr. Vikram Sarabhai of the Dept. of \n",
    "               space, Professor Satish Dhawan, who succeeded him and Dr. Brahm Prakash, father of nuclear material.\n",
    "               I was lucky to have worked with all three of them closely and consider this the great opportunity of my life. \n",
    "               I see four milestones in my career\"\"\""
   ]
  },
  {
   "cell_type": "code",
   "execution_count": 3,
   "id": "56ea146c",
   "metadata": {},
   "outputs": [],
   "source": [
    "# Cleaning the text\n",
    "import re\n",
    "from nltk.corpus import stopwords\n",
    "from nltk.stem.porter import PorterStemmer\n",
    "from nltk.stem import WordNetLemmatizer"
   ]
  },
  {
   "cell_type": "code",
   "execution_count": 4,
   "id": "7990e19f",
   "metadata": {},
   "outputs": [],
   "source": [
    "# Creating the object of PorterStemmer and WordNetLemmatizer\n",
    "stemmer = PorterStemmer()\n",
    "lemmatizer = WordNetLemmatizer()"
   ]
  },
  {
   "cell_type": "code",
   "execution_count": 5,
   "id": "bb319eb1",
   "metadata": {},
   "outputs": [],
   "source": [
    "# Converting paragraph to sentences\n",
    "sentences = nltk.sent_tokenize(paragraph)"
   ]
  },
  {
   "cell_type": "code",
   "execution_count": 6,
   "id": "5cb99d36",
   "metadata": {},
   "outputs": [],
   "source": [
    "# required steps for text cleaning\n",
    "\n",
    "corpus_stemmer = []\n",
    "\n",
    "for i in range(len(sentences)):\n",
    "    # replacing all non-alphabetical characters/words from the sentence with space\n",
    "    review = re.sub('[^a-zA-Z]', ' ', sentences[i])\n",
    "    review = review.lower() # converting to lowercase\n",
    "    review = review.split() # converting to word\n",
    "    # removing stop words and implementing stemming \n",
    "    review = [stemmer.stem(word) for word in review if word not in set(stopwords.words('english'))]\n",
    "    review = ' '.join(review)\n",
    "    corpus_stemmer.append(review)"
   ]
  },
  {
   "cell_type": "code",
   "execution_count": 7,
   "id": "8e1bab4b",
   "metadata": {},
   "outputs": [
    {
     "name": "stdout",
     "output_type": "stream",
     "text": [
      "['three vision india', 'year histori peopl world come invad us captur land conquer mind', 'alexand onward greek turk mogul portugues british french dutch came loot us took', 'yet done nation', 'conquer anyon', 'grab land cultur histori tri enforc way life', '', 'respect freedom other first vision freedom', 'believ india got first vision start war independ', 'freedom must protect nurtur build', 'free one respect us', 'second vision india develop', 'fifti year develop nation', 'time see develop nation', 'among top nation world term gdp', 'percent growth rate area', 'poverti level fall', 'achiev global recognis today', 'yet lack self confid see develop nation self reliant self assur', 'incorrect', 'third vision', 'india must stand world', 'believ unless india stand world one respect us', 'strength respect strength', 'must strong militari power also econom power', 'must go hand hand', 'good fortun work three great mind', 'dr vikram sarabhai dept', 'space professor satish dhawan succeed dr brahm prakash father nuclear materi', 'lucki work three close consid great opportun life', 'see four mileston career']\n"
     ]
    }
   ],
   "source": [
    "print(corpus_stemmer)"
   ]
  },
  {
   "cell_type": "code",
   "execution_count": 8,
   "id": "9fa5ed20",
   "metadata": {},
   "outputs": [],
   "source": [
    "# required steps for text cleaning\n",
    "\n",
    "corpus_lemmetizer = []\n",
    "\n",
    "for i in range(len(sentences)):\n",
    "    # replacing all non-alphabetical characters/words from the sentence with space\n",
    "    review = re.sub('[^a-zA-Z]', ' ', sentences[i])\n",
    "    review = review.lower() # converting to lowercase\n",
    "    review = nltk.word_tokenize(review) # converting to word\n",
    "    # removing stop words and implementing stemming \n",
    "    review = [lemmatizer.lemmatize(word) for word in review if not word in set(stopwords.words('english'))]\n",
    "    review = ' '.join(review)\n",
    "    corpus_lemmetizer.append(review)"
   ]
  },
  {
   "cell_type": "code",
   "execution_count": 9,
   "id": "99322915",
   "metadata": {},
   "outputs": [
    {
     "name": "stdout",
     "output_type": "stream",
     "text": [
      "['three vision india', 'year history people world come invaded u captured land conquered mind', 'alexander onwards greek turk mogul portuguese british french dutch came looted u took', 'yet done nation', 'conquered anyone', 'grabbed land culture history tried enforce way life', '', 'respect freedom others first vision freedom', 'believe india got first vision started war independence', 'freedom must protect nurture build', 'free one respect u', 'second vision india development', 'fifty year developing nation', 'time see developed nation', 'among top nation world term gdp', 'percent growth rate area', 'poverty level falling', 'achievement globally recognised today', 'yet lack self confidence see developed nation self reliant self assured', 'incorrect', 'third vision', 'india must stand world', 'believe unless india stand world one respect u', 'strength respect strength', 'must strong military power also economic power', 'must go hand hand', 'good fortune worked three great mind', 'dr vikram sarabhai dept', 'space professor satish dhawan succeeded dr brahm prakash father nuclear material', 'lucky worked three closely consider great opportunity life', 'see four milestone career']\n"
     ]
    }
   ],
   "source": [
    "print(corpus_lemmetizer)"
   ]
  },
  {
   "cell_type": "code",
   "execution_count": 10,
   "id": "95785b77",
   "metadata": {},
   "outputs": [],
   "source": [
    "# Creating the Bag of Words model\n",
    "\n",
    "from sklearn.feature_extraction.text import CountVectorizer\n",
    "cv = CountVectorizer()\n",
    "X = cv.fit_transform(corpus_lemmetizer)"
   ]
  },
  {
   "cell_type": "code",
   "execution_count": 11,
   "id": "ff344284",
   "metadata": {},
   "outputs": [
    {
     "name": "stdout",
     "output_type": "stream",
     "text": [
      "['achievement', 'alexander', 'also', 'among', 'anyone', 'area', 'assured', 'believe', 'brahm', 'british', 'build', 'came', 'captured', 'career', 'closely', 'come', 'confidence', 'conquered', 'consider', 'culture', 'dept', 'developed', 'developing', 'development', 'dhawan', 'done', 'dr', 'dutch', 'economic', 'enforce', 'falling', 'father', 'fifty', 'first', 'fortune', 'four', 'free', 'freedom', 'french', 'gdp', 'globally', 'go', 'good', 'got', 'grabbed', 'great', 'greek', 'growth', 'hand', 'history', 'incorrect', 'independence', 'india', 'invaded', 'lack', 'land', 'level', 'life', 'looted', 'lucky', 'material', 'milestone', 'military', 'mind', 'mogul', 'must', 'nation', 'nuclear', 'nurture', 'one', 'onwards', 'opportunity', 'others', 'people', 'percent', 'portuguese', 'poverty', 'power', 'prakash', 'professor', 'protect', 'rate', 'recognised', 'reliant', 'respect', 'sarabhai', 'satish', 'second', 'see', 'self', 'space', 'stand', 'started', 'strength', 'strong', 'succeeded', 'term', 'third', 'three', 'time', 'today', 'took', 'top', 'tried', 'turk', 'unless', 'vikram', 'vision', 'war', 'way', 'worked', 'world', 'year', 'yet']\n"
     ]
    }
   ],
   "source": [
    "print(cv.get_feature_names())"
   ]
  },
  {
   "cell_type": "code",
   "execution_count": 12,
   "id": "d22ef431",
   "metadata": {},
   "outputs": [
    {
     "name": "stdout",
     "output_type": "stream",
     "text": [
      "[[0 0 0 ... 0 0 0]\n",
      " [0 0 0 ... 1 1 0]\n",
      " [0 1 0 ... 0 0 0]\n",
      " ...\n",
      " [0 0 0 ... 0 0 0]\n",
      " [0 0 0 ... 0 0 0]\n",
      " [0 0 0 ... 0 0 0]]\n"
     ]
    }
   ],
   "source": [
    "print(X.toarray())"
   ]
  },
  {
   "cell_type": "code",
   "execution_count": null,
   "id": "212f36ae",
   "metadata": {},
   "outputs": [],
   "source": []
  }
 ],
 "metadata": {
  "kernelspec": {
   "display_name": "tf-gpu-25",
   "language": "python",
   "name": "tf-gpu-25"
  },
  "language_info": {
   "codemirror_mode": {
    "name": "ipython",
    "version": 3
   },
   "file_extension": ".py",
   "mimetype": "text/x-python",
   "name": "python",
   "nbconvert_exporter": "python",
   "pygments_lexer": "ipython3",
   "version": "3.9.5"
  }
 },
 "nbformat": 4,
 "nbformat_minor": 5
}
