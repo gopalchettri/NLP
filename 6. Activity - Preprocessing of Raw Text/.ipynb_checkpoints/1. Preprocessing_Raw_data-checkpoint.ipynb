{
 "cells": [
  {
   "cell_type": "code",
   "execution_count": 1,
   "id": "3f5da551",
   "metadata": {},
   "outputs": [],
   "source": [
    "# import requried libraries\n",
    "\n",
    "import nltk\n",
    "from nltk.tokenize import sent_tokenize\n",
    "from nltk.tokenize import word_tokenize\n",
    "from nltk.corpus import stopwords\n",
    "from nltk import pos_tag\n",
    "from nltk.stem import SnowballStemmer\n",
    "from nltk.stem.wordnet import WordNetLemmatizer\n",
    "from autocorrect import Speller\n",
    "import string"
   ]
  },
  {
   "cell_type": "code",
   "execution_count": 2,
   "id": "bd4ac165",
   "metadata": {},
   "outputs": [],
   "source": [
    "# loading the text file\n",
    "\n",
    "corpus = open('file.txt', 'r').read()"
   ]
  },
  {
   "cell_type": "code",
   "execution_count": 3,
   "id": "76f3c232",
   "metadata": {},
   "outputs": [],
   "source": [
    "words = word_tokenize(corpus)"
   ]
  },
  {
   "cell_type": "code",
   "execution_count": 4,
   "id": "f5435cbb",
   "metadata": {},
   "outputs": [
    {
     "name": "stdout",
     "output_type": "stream",
     "text": [
      "First tweenty words :  ['The', 'reader', 'of', 'this', 'course', 'should', 'have', 'a', 'basic', 'knowledge', 'of', 'the', 'Python', 'programming', 'lenguage', '.', 'He/she', 'must', 'have', 'knowldge']\n"
     ]
    }
   ],
   "source": [
    "print('First tweenty words : ', words[0:20])"
   ]
  },
  {
   "cell_type": "code",
   "execution_count": 5,
   "id": "48c79d3e",
   "metadata": {},
   "outputs": [],
   "source": [
    "spell = Speller(lang='en')\n",
    "\n",
    "def correct_sentence(words):\n",
    "    corrected_word_list = []\n",
    "    corrected_sentence = \"\"\n",
    "    \n",
    "    for word in words:\n",
    "        if word not in string.punctuation:\n",
    "            wd_c = spell(word)\n",
    "            if wd_c != word:\n",
    "                print(word + \" has been corrected to :\", wd_c)\n",
    "                corrected_word_list.append(wd_c)\n",
    "                corrected_sentence = corrected_sentence + \" \" + wd_c\n",
    "            else:\n",
    "                corrected_word_list.append(word)\n",
    "                corrected_sentence = corrected_sentence + \" \" + word\n",
    "        else:\n",
    "            corrected_sentence = corrected_sentence + \" \" + word\n",
    "            corrected_word_list.append(word)\n",
    "    return corrected_sentence, corrected_word_list"
   ]
  },
  {
   "cell_type": "code",
   "execution_count": 6,
   "id": "7be0973d",
   "metadata": {},
   "outputs": [
    {
     "name": "stdout",
     "output_type": "stream",
     "text": [
      "lenguage has been corrected to : language\n",
      "knowldge has been corrected to : knowledge\n"
     ]
    }
   ],
   "source": [
    "corrected_sentence, corrected_word_list = correct_sentence(words)"
   ]
  },
  {
   "cell_type": "code",
   "execution_count": 7,
   "id": "d7e51708",
   "metadata": {},
   "outputs": [
    {
     "data": {
      "text/plain": [
       "' The reader of this course should have a basic knowledge of the Python programming language . He/she must have knowledge of data types in Python . He should be able to write functions , and also have the ability to import and use libraries and packages in Python . Familiarity with basic linguistics and probability is assumed although not required to fully complete this course .'"
      ]
     },
     "execution_count": 7,
     "metadata": {},
     "output_type": "execute_result"
    }
   ],
   "source": [
    "corrected_sentence"
   ]
  },
  {
   "cell_type": "code",
   "execution_count": 8,
   "id": "549d9af2",
   "metadata": {},
   "outputs": [
    {
     "name": "stdout",
     "output_type": "stream",
     "text": [
      "[('The', 'DT'), ('reader', 'NN'), ('of', 'IN'), ('this', 'DT'), ('course', 'NN'), ('should', 'MD'), ('have', 'VB'), ('a', 'DT'), ('basic', 'JJ'), ('knowledge', 'NN'), ('of', 'IN'), ('the', 'DT'), ('Python', 'NNP'), ('programming', 'NN'), ('language', 'NN'), ('.', '.'), ('He/she', 'NNP'), ('must', 'MD'), ('have', 'VB'), ('knowledge', 'NN'), ('of', 'IN'), ('data', 'NNS'), ('types', 'NNS'), ('in', 'IN'), ('Python', 'NNP'), ('.', '.'), ('He', 'PRP'), ('should', 'MD'), ('be', 'VB'), ('able', 'JJ'), ('to', 'TO'), ('write', 'VB'), ('functions', 'NNS'), (',', ','), ('and', 'CC'), ('also', 'RB'), ('have', 'VBP'), ('the', 'DT'), ('ability', 'NN'), ('to', 'TO'), ('import', 'NN'), ('and', 'CC'), ('use', 'NN'), ('libraries', 'NNS'), ('and', 'CC'), ('packages', 'NNS'), ('in', 'IN'), ('Python', 'NNP'), ('.', '.'), ('Familiarity', 'NN'), ('with', 'IN'), ('basic', 'JJ'), ('linguistics', 'NNS'), ('and', 'CC'), ('probability', 'NN'), ('is', 'VBZ'), ('assumed', 'VBN'), ('although', 'IN'), ('not', 'RB'), ('required', 'VBN'), ('to', 'TO'), ('fully', 'RB'), ('complete', 'VB'), ('this', 'DT'), ('course', 'NN'), ('.', '.')]\n"
     ]
    }
   ],
   "source": [
    "# Applying PoS tags to each of the corrected tokens and printing thme\n",
    "\n",
    "print(pos_tag(corrected_word_list))"
   ]
  },
  {
   "cell_type": "code",
   "execution_count": 9,
   "id": "9fddd830",
   "metadata": {},
   "outputs": [],
   "source": [
    "stop_words = stopwords.words('english')\n",
    "\n",
    "def remove_stopwords(word_list):\n",
    "    words = [word for word in word_list if word not in stop_words]\n",
    "    return words"
   ]
  },
  {
   "cell_type": "code",
   "execution_count": 10,
   "id": "0cc8060b",
   "metadata": {},
   "outputs": [],
   "source": [
    "words_without_stopwords = remove_stopwords(corrected_word_list)"
   ]
  },
  {
   "cell_type": "code",
   "execution_count": 11,
   "id": "552aada2",
   "metadata": {},
   "outputs": [
    {
     "data": {
      "text/plain": [
       "['The',\n",
       " 'reader',\n",
       " 'course',\n",
       " 'basic',\n",
       " 'knowledge',\n",
       " 'Python',\n",
       " 'programming',\n",
       " 'language',\n",
       " '.',\n",
       " 'He/she',\n",
       " 'must',\n",
       " 'knowledge',\n",
       " 'data',\n",
       " 'types',\n",
       " 'Python',\n",
       " '.',\n",
       " 'He',\n",
       " 'able',\n",
       " 'write',\n",
       " 'functions']"
      ]
     },
     "execution_count": 11,
     "metadata": {},
     "output_type": "execute_result"
    }
   ],
   "source": [
    "words_without_stopwords[0:20]"
   ]
  },
  {
   "cell_type": "code",
   "execution_count": 12,
   "id": "09a1759e",
   "metadata": {},
   "outputs": [],
   "source": [
    "stemmer = SnowballStemmer(language='english')\n",
    "\n",
    "def get_stems(word_list):\n",
    "    stemmed_words = []\n",
    "    for word in word_list:\n",
    "        stemmed_words.append(stemmer.stem(word))\n",
    "    return stemmed_words"
   ]
  },
  {
   "cell_type": "code",
   "execution_count": 13,
   "id": "43bdb13f",
   "metadata": {},
   "outputs": [],
   "source": [
    "stemmed_words = get_stems(corrected_word_list)"
   ]
  },
  {
   "cell_type": "code",
   "execution_count": 14,
   "id": "ef750b44",
   "metadata": {},
   "outputs": [
    {
     "data": {
      "text/plain": [
       "['the',\n",
       " 'reader',\n",
       " 'of',\n",
       " 'this',\n",
       " 'cours',\n",
       " 'should',\n",
       " 'have',\n",
       " 'a',\n",
       " 'basic',\n",
       " 'knowledg',\n",
       " 'of',\n",
       " 'the',\n",
       " 'python',\n",
       " 'program',\n",
       " 'languag',\n",
       " '.',\n",
       " 'he/sh',\n",
       " 'must',\n",
       " 'have',\n",
       " 'knowledg']"
      ]
     },
     "execution_count": 14,
     "metadata": {},
     "output_type": "execute_result"
    }
   ],
   "source": [
    "stemmed_words[0:20]"
   ]
  },
  {
   "cell_type": "code",
   "execution_count": 15,
   "id": "55cd04ac",
   "metadata": {},
   "outputs": [],
   "source": [
    "lemmatizer = WordNetLemmatizer()\n",
    "\n",
    "def get_lemma(word_list):\n",
    "    lemma_words = []\n",
    "    for word in word_list:\n",
    "        lemma_words.append(lemmatizer.lemmatize(word))\n",
    "    return lemma_words"
   ]
  },
  {
   "cell_type": "code",
   "execution_count": 16,
   "id": "f0fb36cd",
   "metadata": {},
   "outputs": [],
   "source": [
    "lemmatized_words = get_lemma(corrected_word_list)"
   ]
  },
  {
   "cell_type": "code",
   "execution_count": 17,
   "id": "d5ea56f5",
   "metadata": {},
   "outputs": [
    {
     "data": {
      "text/plain": [
       "['The',\n",
       " 'reader',\n",
       " 'of',\n",
       " 'this',\n",
       " 'course',\n",
       " 'should',\n",
       " 'have',\n",
       " 'a',\n",
       " 'basic',\n",
       " 'knowledge',\n",
       " 'of',\n",
       " 'the',\n",
       " 'Python',\n",
       " 'programming',\n",
       " 'language',\n",
       " '.',\n",
       " 'He/she',\n",
       " 'must',\n",
       " 'have',\n",
       " 'knowledge']"
      ]
     },
     "execution_count": 17,
     "metadata": {},
     "output_type": "execute_result"
    }
   ],
   "source": [
    "lemmatized_words[0:20]"
   ]
  },
  {
   "cell_type": "code",
   "execution_count": 18,
   "id": "ecac9e58",
   "metadata": {},
   "outputs": [
    {
     "name": "stdout",
     "output_type": "stream",
     "text": [
      "[' The reader of this course should have a basic knowledge of the Python programming language .', 'He/she must have knowledge of data types in Python .', 'He should be able to write functions , and also have the ability to import and use libraries and packages in Python .', 'Familiarity with basic linguistics and probability is assumed although not required to fully complete this course .']\n"
     ]
    }
   ],
   "source": [
    "print(sent_tokenize(corrected_sentence))"
   ]
  },
  {
   "cell_type": "code",
   "execution_count": null,
   "id": "6c23f9a3",
   "metadata": {},
   "outputs": [],
   "source": []
  }
 ],
 "metadata": {
  "kernelspec": {
   "display_name": "tf-gpu-25",
   "language": "python",
   "name": "tf-gpu-25"
  },
  "language_info": {
   "codemirror_mode": {
    "name": "ipython",
    "version": 3
   },
   "file_extension": ".py",
   "mimetype": "text/x-python",
   "name": "python",
   "nbconvert_exporter": "python",
   "pygments_lexer": "ipython3",
   "version": "3.9.5"
  }
 },
 "nbformat": 4,
 "nbformat_minor": 5
}
