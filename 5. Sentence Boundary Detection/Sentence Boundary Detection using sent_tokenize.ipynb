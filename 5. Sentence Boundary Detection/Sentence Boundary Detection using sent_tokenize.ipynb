{
 "cells": [
  {
   "cell_type": "code",
   "execution_count": 1,
   "id": "ad141064",
   "metadata": {},
   "outputs": [],
   "source": [
    "# importing requried packages\n",
    "\n",
    "import nltk\n",
    "from nltk.tokenize import sent_tokenize"
   ]
  },
  {
   "cell_type": "code",
   "execution_count": 2,
   "id": "1e8cfdca",
   "metadata": {},
   "outputs": [],
   "source": [
    "def get_sentences(text):\n",
    "    return sent_tokenize(text)"
   ]
  },
  {
   "cell_type": "code",
   "execution_count": 3,
   "id": "e19926ba",
   "metadata": {},
   "outputs": [],
   "source": [
    "corpus = \"We are reading a book. Do you know who is the publisher? It is Oxford. Oxford is based out of London.\""
   ]
  },
  {
   "cell_type": "code",
   "execution_count": 4,
   "id": "1d9316a0",
   "metadata": {},
   "outputs": [
    {
     "data": {
      "text/plain": [
       "['We are reading a book.',\n",
       " 'Do you know who is the publisher?',\n",
       " 'It is Oxford.',\n",
       " 'Oxford is based out of London.']"
      ]
     },
     "execution_count": 4,
     "metadata": {},
     "output_type": "execute_result"
    }
   ],
   "source": [
    "get_sentences(corpus)"
   ]
  },
  {
   "cell_type": "code",
   "execution_count": null,
   "id": "c98ad238",
   "metadata": {},
   "outputs": [],
   "source": []
  }
 ],
 "metadata": {
  "kernelspec": {
   "display_name": "tf-gpu-25",
   "language": "python",
   "name": "tf-gpu-25"
  },
  "language_info": {
   "codemirror_mode": {
    "name": "ipython",
    "version": 3
   },
   "file_extension": ".py",
   "mimetype": "text/x-python",
   "name": "python",
   "nbconvert_exporter": "python",
   "pygments_lexer": "ipython3",
   "version": "3.9.5"
  }
 },
 "nbformat": 4,
 "nbformat_minor": 5
}
