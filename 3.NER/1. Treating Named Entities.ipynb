{
 "cells": [
  {
   "cell_type": "code",
   "execution_count": 1,
   "id": "562d29bd",
   "metadata": {},
   "outputs": [],
   "source": [
    "import nltk"
   ]
  },
  {
   "cell_type": "code",
   "execution_count": 2,
   "id": "4c0dd9e3",
   "metadata": {},
   "outputs": [
    {
     "name": "stderr",
     "output_type": "stream",
     "text": [
      "[nltk_data] Downloading package maxent_ne_chunker to\n",
      "[nltk_data]     C:\\Users\\gopal\\AppData\\Roaming\\nltk_data...\n",
      "[nltk_data]   Package maxent_ne_chunker is already up-to-date!\n",
      "[nltk_data] Downloading package words to\n",
      "[nltk_data]     C:\\Users\\gopal\\AppData\\Roaming\\nltk_data...\n",
      "[nltk_data]   Package words is already up-to-date!\n"
     ]
    },
    {
     "data": {
      "text/plain": [
       "True"
      ]
     },
     "execution_count": 2,
     "metadata": {},
     "output_type": "execute_result"
    }
   ],
   "source": [
    "from nltk import pos_tag\n",
    "from nltk import ne_chunk\n",
    "from nltk import word_tokenize\n",
    "from nltk import download\n",
    "download('maxent_ne_chunker')\n",
    "download('words')"
   ]
  },
  {
   "cell_type": "code",
   "execution_count": 3,
   "id": "9a604482",
   "metadata": {},
   "outputs": [],
   "source": [
    "# declaring the sentence\n",
    "sentence = \"We are reading a book published by Oxford which is based out of London.\""
   ]
  },
  {
   "cell_type": "code",
   "execution_count": 4,
   "id": "2599944c",
   "metadata": {},
   "outputs": [],
   "source": [
    "# to find the named entities we need to call ne_chunks\n",
    "\n",
    "def get_ner(text):\n",
    "    words = ne_chunk(pos_tag(word_tokenize(text)), binary=True)\n",
    "    return [word for word in words if len(word) == 1]"
   ]
  },
  {
   "cell_type": "code",
   "execution_count": 5,
   "id": "84884fee",
   "metadata": {},
   "outputs": [
    {
     "data": {
      "text/plain": [
       "[Tree('NE', [('Oxford', 'NNP')]), Tree('NE', [('London', 'NNP')])]"
      ]
     },
     "execution_count": 5,
     "metadata": {},
     "output_type": "execute_result"
    }
   ],
   "source": [
    "# Calling the get_ner function\n",
    "\n",
    "get_ner(sentence)"
   ]
  },
  {
   "cell_type": "markdown",
   "id": "0c9e486d",
   "metadata": {},
   "source": [
    "#### Above we can see that the output of the get_ner function returns the name entities \"Oxford\" and \"London\" and maps them to an already-defined cateory \"NNP\"."
   ]
  },
  {
   "cell_type": "code",
   "execution_count": null,
   "id": "d381cd8b",
   "metadata": {},
   "outputs": [],
   "source": []
  }
 ],
 "metadata": {
  "kernelspec": {
   "display_name": "tf-gpu-25",
   "language": "python",
   "name": "tf-gpu-25"
  },
  "language_info": {
   "codemirror_mode": {
    "name": "ipython",
    "version": 3
   },
   "file_extension": ".py",
   "mimetype": "text/x-python",
   "name": "python",
   "nbconvert_exporter": "python",
   "pygments_lexer": "ipython3",
   "version": "3.9.5"
  }
 },
 "nbformat": 4,
 "nbformat_minor": 5
}
